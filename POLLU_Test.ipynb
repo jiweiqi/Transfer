{
 "cells": [
  {
   "cell_type": "code",
   "execution_count": 1,
   "metadata": {},
   "outputs": [],
   "source": [
    "using Random, Printf\n",
    "using DifferentialEquations\n",
    "using Flux, DiffEqFlux"
   ]
  },
  {
   "cell_type": "code",
   "execution_count": 2,
   "metadata": {},
   "outputs": [],
   "source": [
    "# The POLLU problem described in \n",
    "# https://benchmarks.sciml.ai/html/StiffODE/Pollution.html\n",
    "k0 = [\n",
    "    .35e0,   .266e2,  .123e5,  .86e-3,  .82e-3,  .15e5,\n",
    "    .13e-3,  .24e5,   .165e5,  .9e4,    .22e-1,  .12e5,\n",
    "    .188e1,  .163e5,  .48e7,   .35e-3,  .175e-1, .1e9,\n",
    "    .444e12, .124e4,  .21e1,   .578e1,  .474e-1, .178e4,\n",
    "    .312e1\n",
    "];"
   ]
  },
  {
   "cell_type": "code",
   "execution_count": 3,
   "metadata": {},
   "outputs": [
    {
     "data": {
      "text/plain": [
       "f (generic function with 1 method)"
      ]
     },
     "execution_count": 3,
     "metadata": {},
     "output_type": "execute_result"
    }
   ],
   "source": [
    "function f(dy,y,p,t)\n",
    "    k = k0 .* p;\n",
    "    r1  = k[1] *y[1]\n",
    "    r2  = k[2] *y[2]*y[4]\n",
    "    r3  = k[3] *y[5]*y[2]\n",
    "    r4  = k[4] *y[7]\n",
    "    r5  = k[5] *y[7]\n",
    "    r6  = k[6] *y[7]*y[6]\n",
    "    r7  = k[7] *y[9]\n",
    "    r8  = k[8] *y[9]*y[6]\n",
    "    r9  = k[9] *y[11]*y[2]\n",
    "    r10 = k[10]*y[11]*y[1]\n",
    "    r11 = k[11]*y[13]\n",
    "    r12 = k[12]*y[10]*y[2]\n",
    "    r13 = k[13]*y[14]\n",
    "    r14 = k[14]*y[1]*y[6]\n",
    "    r15 = k[15]*y[3]\n",
    "    r16 = k[16]*y[4]\n",
    "    r17 = k[17]*y[4]\n",
    "    r18 = k[18]*y[16]\n",
    "    r19 = k[19]*y[16]\n",
    "    r20 = k[20]*y[17]*y[6]\n",
    "    r21 = k[21]*y[19]\n",
    "    r22 = k[22]*y[19]\n",
    "    r23 = k[23]*y[1]*y[4]\n",
    "    r24 = k[24]*y[19]*y[1]\n",
    "    r25 = k[25]*y[20]\n",
    "\n",
    "    dy[1]  = -r1-r10-r14-r23-r24+\n",
    "              r2+r3+r9+r11+r12+r22+r25\n",
    "    dy[2]  = -r2-r3-r9-r12+r1+r21\n",
    "    dy[3]  = -r15+r1+r17+r19+r22\n",
    "    dy[4]  = -r2-r16-r17-r23+r15\n",
    "    dy[5]  = -r3+r4+r4+r6+r7+r13+r20\n",
    "    dy[6]  = -r6-r8-r14-r20+r3+r18+r18\n",
    "    dy[7]  = -r4-r5-r6+r13\n",
    "    dy[8]  =  r4+r5+r6+r7\n",
    "    dy[9]  = -r7-r8\n",
    "    dy[10] = -r12+r7+r9\n",
    "    dy[11] = -r9-r10+r8+r11\n",
    "    dy[12] =  r9\n",
    "    dy[13] = -r11+r10\n",
    "    dy[14] = -r13+r12\n",
    "    dy[15] =  r14\n",
    "    dy[16] = -r18-r19+r16\n",
    "    dy[17] = -r20\n",
    "    dy[18] =  r20\n",
    "    dy[19] = -r21-r22-r24+r23+r25\n",
    "    dy[20] = -r25+r24\n",
    "end"
   ]
  },
  {
   "cell_type": "code",
   "execution_count": 4,
   "metadata": {},
   "outputs": [
    {
     "data": {
      "text/plain": [
       "fjac (generic function with 1 method)"
      ]
     },
     "execution_count": 4,
     "metadata": {},
     "output_type": "execute_result"
    }
   ],
   "source": [
    "function fjac(J,y,p,t)\n",
    "    k = k0 .* p;\n",
    "    J .= 0.0\n",
    "    J[1,1]   = -k[1]-k[10]*y[11]-k[14]*y[6]-k[23]*y[4]-k[24]*y[19]\n",
    "    J[1,11]  = -k[10]*y[1]+k[9]*y[2]\n",
    "    J[1,6]   = -k[14]*y[1]\n",
    "    J[1,4]   = -k[23]*y[1]+k[2]*y[2]\n",
    "    J[1,19]  = -k[24]*y[1]+k[22]\n",
    "    J[1,2]   = k[2]*y[4]+k[9]*y[11]+k[3]*y[5]+k[12]*y[10]\n",
    "    J[1,13]  = k[11]\n",
    "    J[1,20]  = k[25]\n",
    "    J[1,5]   = k[3]*y[2]\n",
    "    J[1,10]  = k[12]*y[2]\n",
    "\n",
    "    J[2,4]   = -k[2]*y[2]\n",
    "    J[2,5]   = -k[3]*y[2]\n",
    "    J[2,11]  = -k[9]*y[2]\n",
    "    J[2,10]  = -k[12]*y[2]\n",
    "    J[2,19]  = k[21]\n",
    "    J[2,1]   = k[1]\n",
    "    J[2,2]   = -k[2]*y[4]-k[3]*y[5]-k[9]*y[11]-k[12]*y[10]\n",
    "\n",
    "    J[3,1]   = k[1]\n",
    "    J[3,4]   = k[17]\n",
    "    J[3,16]  = k[19]\n",
    "    J[3,19]  = k[22]\n",
    "    J[3,3]   = -k[15]\n",
    "\n",
    "    J[4,4]   = -k[2]*y[2]-k[16]-k[17]-k[23]*y[1]\n",
    "    J[4,2]   = -k[2]*y[4]\n",
    "    J[4,1]   = -k[23]*y[4]\n",
    "    J[4,3]   = k[15]\n",
    "\n",
    "    J[5,5]   = -k[3]*y[2]\n",
    "    J[5,2]   = -k[3]*y[5]\n",
    "    J[5,7]   = 2k[4]+k[6]*y[6]\n",
    "    J[5,6]   = k[6]*y[7]+k[20]*y[17]\n",
    "    J[5,9]   = k[7]\n",
    "    J[5,14]  = k[13]\n",
    "    J[5,17]  = k[20]*y[6]\n",
    "\n",
    "    J[6,6]   = -k[6]*y[7]-k[8]*y[9]-k[14]*y[1]-k[20]*y[17]\n",
    "    J[6,7]   = -k[6]*y[6]\n",
    "    J[6,9]   = -k[8]*y[6]\n",
    "    J[6,1]   = -k[14]*y[6]\n",
    "    J[6,17]  = -k[20]*y[6]\n",
    "    J[6,2]   = k[3]*y[5]\n",
    "    J[6,5]   = k[3]*y[2]\n",
    "    J[6,16]  = 2k[18]\n",
    "\n",
    "    J[7,7]   = -k[4]-k[5]-k[6]*y[6]\n",
    "    J[7,6]   = -k[6]*y[7]\n",
    "    J[7,14]  = k[13]\n",
    "\n",
    "    J[8,7]   = k[4]+k[5]+k[6]*y[6]\n",
    "    J[8,6]   = k[6]*y[7]\n",
    "    J[8,9]   = k[7]\n",
    "\n",
    "    J[9,9]   = -k[7]-k[8]*y[6]\n",
    "    J[9,6]   = -k[8]*y[9]\n",
    "\n",
    "    J[10,10] = -k[12]*y[2]\n",
    "    J[10,2]  = -k[12]*y[10]+k[9]*y[11]\n",
    "    J[10,9]  = k[7]\n",
    "    J[10,11] = k[9]*y[2]\n",
    "\n",
    "    J[11,11] = -k[9]*y[2]-k[10]*y[1]\n",
    "    J[11,2]  = -k[9]*y[11]\n",
    "    J[11,1]  = -k[10]*y[11]\n",
    "    J[11,9]  = k[8]*y[6]\n",
    "    J[11,6]  = k[8]*y[9]\n",
    "    J[11,13] = k[11]\n",
    "\n",
    "    J[12,11] = k[9]*y[2]\n",
    "    J[12,2]  = k[9]*y[11]\n",
    "\n",
    "    J[13,13] = -k[11]\n",
    "    J[13,11] = k[10]*y[1]\n",
    "    J[13,1]  = k[10]*y[11]\n",
    "\n",
    "    J[14,14] = -k[13]\n",
    "    J[14,10] = k[12]*y[2]\n",
    "    J[14,2]  = k[12]*y[10]\n",
    "\n",
    "    J[15,1]  = k[14]*y[6]\n",
    "    J[15,6]  = k[14]*y[1]\n",
    "\n",
    "    J[16,16] = -k[18]-k[19]\n",
    "    J[16,4]  = k[16]\n",
    "\n",
    "    J[17,17] = -k[20]*y[6]\n",
    "    J[17,6]  = -k[20]*y[17]\n",
    "\n",
    "    J[18,17] = k[20]*y[6]\n",
    "    J[18,6]  = k[20]*y[17]\n",
    "\n",
    "    J[19,19] = -k[21]-k[22]-k[24]*y[1]\n",
    "    J[19,1]  = -k[24]*y[19]+k[23]*y[4]\n",
    "    J[19,4]  = k[23]*y[1]\n",
    "    J[19,20] = k[25]\n",
    "\n",
    "    J[20,20] = -k[25]\n",
    "    J[20,1]  = k[24]*y[19]\n",
    "    J[20,19] = k[24]*y[1]\n",
    "\n",
    "    return\n",
    "end"
   ]
  },
  {
   "cell_type": "code",
   "execution_count": 5,
   "metadata": {},
   "outputs": [
    {
     "name": "stdout",
     "output_type": "stream",
     "text": [
      "u0 = [0.0, 0.2, 0.0, 0.04, 0.0, 0.0, 0.1, 0.3, 0.01, 0.0, 0.0, 0.0, 0.0, 0.0, 0.0, 0.0, 0.007, 0.0, 0.0, 0.0]\n"
     ]
    }
   ],
   "source": [
    "# initialize\n",
    "u0 = zeros(20)\n",
    "u0[2]  = 0.2\n",
    "u0[4]  = 0.04\n",
    "u0[7]  = 0.1\n",
    "u0[8]  = 0.3\n",
    "u0[9]  = 0.01\n",
    "u0[17] = 0.007\n",
    "@show u0;"
   ]
  },
  {
   "cell_type": "code",
   "execution_count": 6,
   "metadata": {},
   "outputs": [],
   "source": [
    "# solver settings\n",
    "abstol = 1e-12\n",
    "reltol = 1e-9\n",
    "p_true = ones(25)\n",
    "solver = DifferentialEquations.CVODE_BDF()\n",
    "t_end = 1e1\n",
    "t = 10 .^ range(log10(1e-2), log10(t_end), length=301);"
   ]
  },
  {
   "cell_type": "code",
   "execution_count": 7,
   "metadata": {},
   "outputs": [
    {
     "name": "stdout",
     "output_type": "stream",
     "text": [
      "p_pred = [1.6134509333384142, 1.5120442024665515, 1.4734661603611492, 1.9828797665042102, 0.9637846993162412, 0.9193173817841414, 1.9931334900091495, 0.7436006332139167, 0.7486903309697442, 0.41009308366594693, 0.7727850930711746, 0.8049994647400657, 1.2437395135576494, 0.4423116556319156, 0.8877652479995815, 0.5795456004767549, 0.5089367394039388, 0.8380787764547069, 0.8821158618847272, 1.0092668395620195, 0.5553157380025299, 0.7828301951691133, 0.6262498295589252, 0.4609633962339217, 0.8485644653887581]\n"
     ]
    }
   ],
   "source": [
    "# parameters\n",
    "rng = MersenneTwister(0x7777777)\n",
    "factor = exp.((rand(rng, length(p_true)) .* 2 .- 1) .* 1)\n",
    "p_pred = p_true .* factor\n",
    "params = Flux.params(p_pred);\n",
    "@show p_pred;"
   ]
  },
  {
   "cell_type": "code",
   "execution_count": 8,
   "metadata": {},
   "outputs": [],
   "source": [
    "# solve the ODE\n",
    "prob = ODEProblem(ODEFunction(f, jac=fjac), u0, (0.0,t_end));\n",
    "y_true = solve(prob, solver, p=p_true, abstol=abstol, reltol=reltol, saveat=t);"
   ]
  },
  {
   "cell_type": "code",
   "execution_count": 9,
   "metadata": {},
   "outputs": [
    {
     "data": {
      "text/plain": [
       "predict_rd (generic function with 1 method)"
      ]
     },
     "execution_count": 9,
     "metadata": {},
     "output_type": "execute_result"
    }
   ],
   "source": [
    "# define the problem\n",
    "function predict_rd()\n",
    "    y_pred = solve(prob, solver, p=p_pred, abstol=abstol, reltol=reltol, saveat=t)\n",
    "end"
   ]
  },
  {
   "cell_type": "code",
   "execution_count": 12,
   "metadata": {},
   "outputs": [
    {
     "name": "stdout",
     "output_type": "stream",
     "text": [
      "  0.327882 seconds (1.63 M allocations: 66.166 MiB)\n"
     ]
    }
   ],
   "source": [
    "function loss_1()\n",
    "    sum(abs2, predict_rd()-y_true)\n",
    "end\n",
    "\n",
    "@time Flux.gradient(()->loss_1(), params);"
   ]
  },
  {
   "cell_type": "code",
   "execution_count": 13,
   "metadata": {},
   "outputs": [
    {
     "name": "stdout",
     "output_type": "stream",
     "text": [
      "  4.565923 seconds (46.90 M allocations: 1.889 GiB, 6.52% gc time)\n"
     ]
    },
    {
     "name": "stderr",
     "output_type": "stream",
     "text": [
      "\n",
      "[CVODES WARNING]  CVode\n",
      "  Internal t = 10 and h = -8.51646e-18 are such that t + h = t on the next step. The solver will continue anyway.\n",
      "\n",
      "\n",
      "[CVODES WARNING]  CVode\n",
      "  Internal t = 10 and h = -3.08008e-16 are such that t + h = t on the next step. The solver will continue anyway.\n",
      "\n",
      "\n",
      "[CVODES WARNING]  CVode\n",
      "  Internal t = 10 and h = -7.2163e-16 are such that t + h = t on the next step. The solver will continue anyway.\n",
      "\n",
      "\n",
      "[CVODES WARNING]  CVode\n",
      "  Internal t = 10 and h = -7.94248e-16 are such that t + h = t on the next step. The solver will continue anyway.\n",
      "\n",
      "\n",
      "[CVODES WARNING]  CVode\n",
      "  Internal t = 10 and h = -8.53323e-16 are such that t + h = t on the next step. The solver will continue anyway.\n",
      "\n",
      "\n",
      "[CVODES WARNING]  CVode\n",
      "  Internal t = 10 and h = -3.03935e-19 are such that t + h = t on the next step. The solver will continue anyway.\n",
      "\n",
      "\n",
      "[CVODES WARNING]  CVode\n",
      "  Internal t = 10 and h = -3.03935e-19 are such that t + h = t on the next step. The solver will continue anyway.\n",
      "\n",
      "\n",
      "[CVODES WARNING]  CVode\n",
      "  Internal t = 10 and h = -1.23091e-18 are such that t + h = t on the next step. The solver will continue anyway.\n",
      "\n",
      "\n",
      "[CVODES WARNING]  CVode\n",
      "  Internal t = 10 and h = -1.23091e-18 are such that t + h = t on the next step. The solver will continue anyway.\n",
      "\n",
      "\n",
      "[CVODES WARNING]  CVode\n",
      "  Internal t = 10 and h = -1.23091e-18 are such that t + h = t on the next step. The solver will continue anyway.\n",
      "\n",
      "\n",
      "[CVODES WARNING]  CVode\n",
      "  Internal t = 10 and h = -1.23091e-18 are such that t + h = t on the next step. The solver will continue anyway.\n",
      "\n",
      "\n",
      "[CVODES WARNING]  CVode\n",
      "  Internal t = 10 and h = -1.23091e-18 are such that t + h = t on the next step. The solver will continue anyway.\n",
      "\n",
      "\n",
      "[CVODES WARNING]  CVode\n",
      "  Internal t = 10 and h = -1.23091e-18 are such that t + h = t on the next step. The solver will continue anyway.\n",
      "\n",
      "\n",
      "[CVODES WARNING]  CVode\n",
      "  Internal t = 10 and h = -1.23091e-18 are such that t + h = t on the next step. The solver will continue anyway.\n",
      "\n",
      "\n",
      "[CVODES WARNING]  CVode\n",
      "  Internal t = 10 and h = -1.23091e-18 are such that t + h = t on the next step. The solver will continue anyway.\n",
      "\n",
      "\n",
      "[CVODES WARNING]  CVode\n",
      "  The above warning has been issued mxhnil times and will not be issued again for this problem.\n",
      "\n"
     ]
    }
   ],
   "source": [
    "weights = ones(20).*1e3\n",
    "\n",
    "function loss_2()\n",
    "    sum(abs2, (predict_rd()-y_true).*weights)\n",
    "end\n",
    "\n",
    "@time Flux.gradient(()->loss_2(), params);"
   ]
  },
  {
   "cell_type": "code",
   "execution_count": null,
   "metadata": {},
   "outputs": [],
   "source": []
  }
 ],
 "metadata": {
  "kernelspec": {
   "display_name": "Julia 1.4.2",
   "language": "julia",
   "name": "julia-1.4"
  },
  "language_info": {
   "file_extension": ".jl",
   "mimetype": "application/julia",
   "name": "julia",
   "version": "1.4.2"
  }
 },
 "nbformat": 4,
 "nbformat_minor": 4
}
