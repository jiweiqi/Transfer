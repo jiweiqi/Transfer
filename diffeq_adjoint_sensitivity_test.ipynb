{
 "cells": [
  {
   "cell_type": "code",
   "execution_count": 6,
   "metadata": {
    "scrolled": true
   },
   "outputs": [
    {
     "data": {
      "text/plain": [
       "t: 84-element Array{Float64,1}:\n",
       "  0.0\n",
       "  0.0016779262355463645\n",
       "  0.018457188591010008\n",
       "  0.04592513806904994\n",
       "  0.08861703360132858\n",
       "  0.1459228411240901\n",
       "  0.2218068620085969\n",
       "  0.31568026828433493\n",
       "  0.4346630038939746\n",
       "  0.5830167748521553\n",
       "  0.731370545810336\n",
       "  0.8797243167685167\n",
       "  1.0280780877266975\n",
       "  ⋮\n",
       "  8.786670745986017\n",
       "  8.875563024627366\n",
       "  8.980183220413753\n",
       "  9.062226332288471\n",
       "  9.155091351179243\n",
       "  9.247956370070014\n",
       "  9.357548531843364\n",
       "  9.491295975399952\n",
       "  9.629279390282264\n",
       "  9.767262805164576\n",
       "  9.905246220046887\n",
       " 10.0\n",
       "u: 84-element Array{Array{Float64,1},1}:\n",
       " [1.0, 1.0]\n",
       " [1.0008421283680495, 0.9966504744824827]\n",
       " [1.0096094419777581, 0.9638421465804013]\n",
       " [1.0253103275636828, 0.9127515548012217]\n",
       " [1.0529979220440533, 0.8394312875289703]\n",
       " [1.096399446156186, 0.7516968071859257]\n",
       " [1.164901929341672, 0.6522005194396727]\n",
       " [1.2674758984544852, 0.5515272397993951]\n",
       " [1.4274621095732376, 0.45292373012261483]\n",
       " [1.6787232083436345, 0.36524518624339086]\n",
       " [1.995685827977463, 0.30725774943401934]\n",
       " [2.388935649585756, 0.2724573551640457]\n",
       " [2.870295347741422, 0.25774281396772375]\n",
       " ⋮\n",
       " [5.74199181595839, 3.2815083103554517]\n",
       " [4.737636214669127, 4.010582493629829]\n",
       " [3.5369487895707663, 4.514621240436329]\n",
       " [2.7521796541323744, 4.564905635592392]\n",
       " [2.09104411829604, 4.321162846683281]\n",
       " [1.6408630298909683, 3.885647432225718]\n",
       " [1.3055014463477896, 3.2832925385863363]\n",
       " [1.0789756244942128, 2.5742580905819614]\n",
       " [0.9715605115295529, 1.9575552103837521]\n",
       " [0.9436454022633487, 1.4749743765012937]\n",
       " [0.9714392550780798, 1.111492825437804]\n",
       " [1.0172368699790135, 0.9188213392198102]"
      ]
     },
     "execution_count": 6,
     "metadata": {},
     "output_type": "execute_result"
    }
   ],
   "source": [
    "using DiffEqSensitivity, OrdinaryDiffEq, Zygote\n",
    "\n",
    "function fiip(du,u,p,t)\n",
    "  du[1] = dx = p[1]*u[1] - p[2]*u[1]*u[2]\n",
    "  du[2] = dy = -p[3]*u[2] + p[4]*u[1]*u[2]\n",
    "end\n",
    "p = [1.5,1.0,3.0,1.0]; \n",
    "u0 = [1.0;1.0]\n",
    "prob = ODEProblem(fiip,u0,(0.0,10.0),p)\n",
    "alg = Rosenbrock23(autodiff=false)\n",
    "sol = concrete_solve(prob,alg)"
   ]
  },
  {
   "cell_type": "code",
   "execution_count": 25,
   "metadata": {
    "scrolled": false
   },
   "outputs": [
    {
     "name": "stdout",
     "output_type": "stream",
     "text": [
      "  0.105094 seconds (262.47 k allocations: 9.111 MiB)\n"
     ]
    },
    {
     "data": {
      "text/plain": [
       "([1.9499410519050726, 0.19018844902536125], [2.1010803631070916, 0.17663895910776475, 0.544535424000591, 0.9371500287209719])"
      ]
     },
     "execution_count": 25,
     "metadata": {},
     "output_type": "execute_result"
    }
   ],
   "source": [
    "@time du01,dp1 = Zygote.gradient((u0,p)->concrete_solve(prob,alg,u0,p,save_everystep=false,save_start=false)[1, end],u0,p)"
   ]
  },
  {
   "cell_type": "code",
   "execution_count": 30,
   "metadata": {
    "scrolled": true
   },
   "outputs": [
    {
     "name": "stdout",
     "output_type": "stream",
     "text": [
      "  0.434476 seconds (774.76 k allocations: 33.061 MiB)\n"
     ]
    },
    {
     "data": {
      "text/plain": [
       "([-1.9499410232907068, -0.19018846052941046], [-2.1010803174168005 -0.1766389659089034 -0.5445354222400056 -0.9371500062767397])"
      ]
     },
     "execution_count": 30,
     "metadata": {},
     "output_type": "execute_result"
    }
   ],
   "source": [
    "sol_adj = solve(prob,alg)\n",
    "\n",
    "function dg(out,u, p, t, i)\n",
    "  out .= [1.0, 0.0]\n",
    "end\n",
    "ts = sol_adj.t[end]\n",
    "@time res = adjoint_sensitivities(sol_adj,Rosenbrock23(autodiff=false),dg,ts)"
   ]
  },
  {
   "cell_type": "code",
   "execution_count": 12,
   "metadata": {},
   "outputs": [
    {
     "data": {
      "text/plain": [
       "11.076917966749145"
      ]
     },
     "execution_count": 12,
     "metadata": {},
     "output_type": "execute_result"
    }
   ],
   "source": [
    "u1 = copy(u0)\n",
    "p1 = copy(p)\n",
    "h = 0.001\n",
    "u1[1] = u1[1] + h\n",
    "# p1[1] = p1[1] + h\n",
    "prob1 = ODEProblem(fiip,u1,(0.0,10.0),p1)\n",
    "sol1 = concrete_solve(prob1,alg,abstol=1e-10,reltol=1e-10)\n",
    "\n",
    "du1_fd = (sol1[end] - sol[end])[1]/h"
   ]
  }
 ],
 "metadata": {
  "kernelspec": {
   "display_name": "Julia 1.4.1",
   "language": "julia",
   "name": "julia-1.4"
  },
  "language_info": {
   "file_extension": ".jl",
   "mimetype": "application/julia",
   "name": "julia",
   "version": "1.4.1"
  }
 },
 "nbformat": 4,
 "nbformat_minor": 4
}
