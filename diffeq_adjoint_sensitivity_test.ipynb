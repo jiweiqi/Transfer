{
 "cells": [
  {
   "cell_type": "code",
   "execution_count": 1,
   "metadata": {
    "scrolled": true
   },
   "outputs": [
    {
     "data": {
      "text/plain": [
       "t: 12217-element Array{Float64,1}:\n",
       "  0.0\n",
       "  7.500165102325e-7\n",
       "  8.250181612557501e-6\n",
       "  8.325183263580749e-5\n",
       "  0.0002441493755446294\n",
       "  0.00045178872549769665\n",
       "  0.0007759054563281014\n",
       "  0.0011453416720713576\n",
       "  0.0016248493710973929\n",
       "  0.002136896713287465\n",
       "  0.0027338071839994793\n",
       "  0.0033500968758512543\n",
       "  0.004024826225756027\n",
       "  ⋮\n",
       "  9.990964054515306\n",
       "  9.991823212781544\n",
       "  9.992682371047781\n",
       "  9.993541529314019\n",
       "  9.994400687580256\n",
       "  9.995259845846494\n",
       "  9.996119004112732\n",
       "  9.99697816237897\n",
       "  9.997837320645207\n",
       "  9.998696478911445\n",
       "  9.999555637177682\n",
       " 10.0\n",
       "u: 12217-element Array{Array{Float64,1},1}:\n",
       " [1.0, 1.0]\n",
       " [1.000000375008888, 0.9999984999682452]\n",
       " [1.0000041251673797, 0.9999834997899213]\n",
       " [1.000041633713319, 0.999833511928259]\n",
       " [1.0001221417434631, 0.9995118353468834]\n",
       " [1.00022612396585, 0.9990968816663428]\n",
       " [1.0003886298938207, 0.9984495429631414]\n",
       " [1.0005741462547422, 0.9977122660138839]\n",
       " [1.0008153938134468, 0.9967562352700614]\n",
       " [1.0010735831766677, 0.9957364665239684]\n",
       " [1.0013753067367803, 0.9945491715821237]\n",
       " [1.0016876657687543, 0.9933250034035056]\n",
       " [1.0020306222220008, 0.9919867006227321]\n",
       " ⋮\n",
       " [1.020960403368523, 0.9260824970073482]\n",
       " [1.0214646391134434, 0.9245094092805399]\n",
       " [1.0219705037673115, 0.922939394155504]\n",
       " [1.0224779968063409, 0.9213724463421887]\n",
       " [1.0229871177137073, 0.9198085605565378]\n",
       " [1.023497865979527, 0.9182477315205044]\n",
       " [1.024010241100836, 0.9166899539620659]\n",
       " [1.0245242425815682, 0.9151352226152378]\n",
       " [1.0250398699325356, 0.9135835322200887]\n",
       " [1.0255571226714075, 0.9120348775227531]\n",
       " [1.0260760003226894, 0.9104892532754462]\n",
       " [1.026345005006751, 0.9096910326446271]"
      ]
     },
     "execution_count": 1,
     "metadata": {},
     "output_type": "execute_result"
    }
   ],
   "source": [
    "using DiffEqSensitivity, OrdinaryDiffEq, Zygote\n",
    "\n",
    "function fiip(du,u,p,t)\n",
    "  du[1] = dx = p[1]*u[1] - p[2]*u[1]*u[2]\n",
    "  du[2] = dy = -p[3]*u[2] + p[4]*u[1]*u[2]\n",
    "end\n",
    "p = [1.5,1.0,3.0,1.0]; \n",
    "u0 = [1.0;1.0]\n",
    "prob = ODEProblem(fiip,u0,(0.0,10.0),p)\n",
    "alg = Rosenbrock23(autodiff=false)\n",
    "sol = concrete_solve(prob,alg,abstol=1e-10,reltol=1e-10)"
   ]
  },
  {
   "cell_type": "code",
   "execution_count": 2,
   "metadata": {
    "scrolled": false
   },
   "outputs": [
    {
     "name": "stdout",
     "output_type": "stream",
     "text": [
      " 38.706106 seconds (72.00 M allocations: 3.900 GiB, 4.11% gc time)\n"
     ]
    },
    {
     "data": {
      "text/plain": [
       "([-2.7943765147377064, 0.21125041458994295], [-6.324985452698097, -0.7048510776198609, -1.718940767730094, -2.78739184601153])"
      ]
     },
     "execution_count": 2,
     "metadata": {},
     "output_type": "execute_result"
    }
   ],
   "source": [
    "@time du01,dp1 = Zygote.gradient((u0,p)->concrete_solve(prob,alg,u0,p,save_everystep=false,save_start=false)[end,1],u0,p)"
   ]
  },
  {
   "cell_type": "code",
   "execution_count": 6,
   "metadata": {},
   "outputs": [
    {
     "name": "stdout",
     "output_type": "stream",
     "text": [
      " 17.446035 seconds (43.62 M allocations: 2.152 GiB, 5.68% gc time)\n"
     ]
    },
    {
     "data": {
      "text/plain": [
       "([-2.735337842312109, 0.21064211814849126], [-6.2414474188247135, -0.6972987072620919, -1.707491832271775, -2.7365828183600724])"
      ]
     },
     "execution_count": 6,
     "metadata": {},
     "output_type": "execute_result"
    }
   ],
   "source": [
    "@time du01,dp1 = Zygote.gradient((u0,p)->concrete_solve(prob,Tsit5(),u0,p,save_everystep=false,save_start=false)[end,1],u0,p)"
   ]
  },
  {
   "cell_type": "code",
   "execution_count": 3,
   "metadata": {
    "scrolled": true
   },
   "outputs": [
    {
     "name": "stdout",
     "output_type": "stream",
     "text": [
      "  5.744803 seconds (16.77 M allocations: 720.386 MiB, 7.29% gc time)\n"
     ]
    },
    {
     "data": {
      "text/plain": [
       "([-1.965981873803132, -0.1885714562731049], [-2.160524417509413 -0.1885777736493886 -0.5631793149554023 -0.939630665744495])"
      ]
     },
     "execution_count": 3,
     "metadata": {},
     "output_type": "execute_result"
    }
   ],
   "source": [
    "sol_adj = solve(prob,alg,abstol=1e-10,reltol=1e-10)\n",
    "\n",
    "function dg(out,u, p, t, i)\n",
    "  out .= [1.0, 0.0]\n",
    "end\n",
    "ts = sol_adj.t[end]\n",
    "@time res = adjoint_sensitivities(sol_adj,Rosenbrock23(autodiff=false),dg,ts,abstol=1e-9,reltol=1e-6)"
   ]
  },
  {
   "cell_type": "code",
   "execution_count": 4,
   "metadata": {},
   "outputs": [
    {
     "data": {
      "text/plain": [
       "1.968782939011593"
      ]
     },
     "execution_count": 4,
     "metadata": {},
     "output_type": "execute_result"
    }
   ],
   "source": [
    "u1 = copy(u0)\n",
    "p1 = copy(p)\n",
    "h = 0.001\n",
    "u1[1] = u1[1] + h\n",
    "# p1[1] = p1[1] + h\n",
    "prob1 = ODEProblem(fiip,u1,(0.0,10.0),p1)\n",
    "sol1 = concrete_solve(prob1,alg,abstol=1e-10,reltol=1e-10)\n",
    "\n",
    "du1_fd = (sol1[end] - sol[end])[1]/h"
   ]
  }
 ],
 "metadata": {
  "kernelspec": {
   "display_name": "Julia 1.4.1",
   "language": "julia",
   "name": "julia-1.4"
  },
  "language_info": {
   "file_extension": ".jl",
   "mimetype": "application/julia",
   "name": "julia",
   "version": "1.4.1"
  }
 },
 "nbformat": 4,
 "nbformat_minor": 4
}
